{
 "cells": [
  {
   "cell_type": "code",
   "execution_count": 1,
   "id": "918e36b1",
   "metadata": {},
   "outputs": [
    {
     "name": "stdout",
     "output_type": "stream",
     "text": [
      "Sorted ages [19, 19, 20, 22, 24, 24, 24, 25, 25, 26]\n",
      "minimum 19\n",
      "maximum 26\n",
      "median 24.0\n",
      "average 22.75\n",
      "range_of_ages 7\n"
     ]
    }
   ],
   "source": [
    "# Question 1\n",
    "# The following is a list of 10 students ages:\n",
    "ages = [19, 22, 19, 24, 20, 25, 26, 24, 25, 24]\n",
    "# • Sort the list and find the min and max age\n",
    "ages.sort()\n",
    "print(\"Sorted ages\",ages)\n",
    "minimum = ages[0]\n",
    "print(\"minimum\",minimum)\n",
    "maximum = ages[-1]\n",
    "print(\"maximum\",maximum)\n",
    "# • Add the min age and the max age again to the list\n",
    "ages.append(minimum)\n",
    "ages.append(maximum)\n",
    "# • Find the median age (one middle item or two middle items divided by two)\n",
    "ages.sort()\n",
    "n = len(ages)\n",
    "if n%2==0:\n",
    "    median = (ages[(n-1)//2] + ages[n//2])/2\n",
    "else:\n",
    "    median = ages[n//2]\n",
    "print(\"median\",median)\n",
    "# • Find the average age (sum of all items divided by their number)\n",
    "ss = 0\n",
    "for x in ages:\n",
    "    ss+=x\n",
    "average = ss/n\n",
    "print(\"average\",average)\n",
    "# • Find the range of the ages (max minus min)\n",
    "range_of_ages = abs(maximum - minimum)\n",
    "print(\"range_of_ages\",range_of_ages)"
   ]
  },
  {
   "cell_type": "code",
   "execution_count": 2,
   "id": "6dc51e8d",
   "metadata": {},
   "outputs": [
    {
     "name": "stdout",
     "output_type": "stream",
     "text": [
      "{'first_name': 'Hardik Bharatkumar', 'last_name': 'Somaiya', 'gender': 'Male', 'age': 28, 'marital status': 'Single', 'skills': ['Python', 'Java'], 'country': 'USA', 'city': 'Warrensburg', 'address': '509 Anderson St'}\n",
      "9\n",
      "['Python', 'Java'] <class 'list'>\n",
      "['first_name', 'last_name', 'gender', 'age', 'marital status', 'skills', 'country', 'city', 'address']\n",
      "['Hardik Bharatkumar', 'Somaiya', 'Male', 28, 'Single', ['Python', 'Java', 'Algorithms', 'Data Structures', 'Machine Learning'], 'USA', 'Warrensburg', '509 Anderson St']\n"
     ]
    }
   ],
   "source": [
    "# Question 2\n",
    "# • Create an empty dictionary called dog\n",
    "dog = {}\n",
    "# • Add name, color, breed, legs, age to the dog dictionary\n",
    "dog[\"name\"] = \"Tom\"\n",
    "dog[\"color\"] = \"Brown and Black\"\n",
    "dog[\"breed\"] = \"German Shepherd\"\n",
    "dog[\"legs\"] = 4\n",
    "dog[\"age\"] = 5\n",
    "\n",
    "# • Create a student dictionary and add first_name, last_name, gender, age, marital status,\n",
    "# skills, country, city and address as keys for the dictionary\n",
    "student = {}\n",
    "\n",
    "student[\"first_name\"] = \"Hardik Bharatkumar\"\n",
    "student[\"last_name\"] = \"Somaiya\"\n",
    "student[\"gender\"] = \"Male\"\n",
    "student[\"age\"] = 28\n",
    "student[\"marital status\"] = \"Single\" \n",
    "student[\"skills\"] = [\"Python\",\"Java\"]\n",
    "student[\"country\"] = \"USA\"\n",
    "student[\"city\"] = \"Warrensburg\"\n",
    "student[\"address\"] = \"509 Anderson St\"\n",
    "\n",
    "\n",
    "print(student)\n",
    "# • Get the length of the student dictionary\n",
    "print(len(student))\n",
    "# • Get the value of skills and check the data type, it should be a list\n",
    "print(student[\"skills\"],type(student[\"skills\"]))\n",
    "# • Modify the skills values by adding one or two skills\n",
    "student[\"skills\"].append(\"Algorithms\")\n",
    "student[\"skills\"].append(\"Data Structures\")\n",
    "student[\"skills\"].append(\"Machine Learning\")\n",
    "# • Get the dictionary keys as a list\n",
    "print(list(student.keys()))\n",
    "# • Get the dictionary values as a list\n",
    "print(list(student.values()))"
   ]
  },
  {
   "cell_type": "code",
   "execution_count": 3,
   "id": "9dac1be1",
   "metadata": {},
   "outputs": [
    {
     "name": "stdout",
     "output_type": "stream",
     "text": [
      "('Gaurav', 'Hitesh', 'Dipti', 'Bhumi')\n",
      "4\n",
      "('Gaurav', 'Hitesh', 'Dipti', 'Bhumi', 'Bharatkumar', 'Sadhana')\n"
     ]
    }
   ],
   "source": [
    "# Question 3\n",
    "# Create a tuple containing names of your sisters and your brothers (imaginary siblings are\n",
    "# fine)\n",
    "brothers = (\"Gaurav\",\"Hitesh\")\n",
    "sisters = (\"Dipti\",\"Bhumi\")\n",
    "# • Join brothers and sisters tuples and assign it to siblings\n",
    "siblings = brothers + sisters\n",
    "print(siblings)\n",
    "# • How many siblings do you have?\n",
    "print(len(siblings))\n",
    "# • Modify the siblings tuple and add the name of your father and mother and assign it to\n",
    "# family_members\n",
    "family = siblings + (\"Bharatkumar\",\"Sadhana\")\n",
    "print(family)"
   ]
  },
  {
   "cell_type": "code",
   "execution_count": 4,
   "id": "3a5805f0",
   "metadata": {},
   "outputs": [
    {
     "name": "stdout",
     "output_type": "stream",
     "text": [
      "7\n",
      "{'Microsoft', 'Oracle', 'Apple', 'IBM', 'Facebook', 'Twitter', 'Google', 'Amazon'}\n",
      "{'Oracle', 'Citadel', 'IBM', 'Coinbase', 'Google', 'Amazon', 'Microsoft', 'Apple', 'Robinhood', 'Twitter', 'Facebook'}\n",
      "{'Oracle', 'Citadel', 'IBM', 'Coinbase', 'Google', 'Amazon', 'Microsoft', 'Apple', 'Robinhood', 'Twitter'}\n",
      "{19, 20, 22, 24, 25, 26, 27, 28}\n",
      "{19, 20, 22, 24, 25, 26}\n",
      "True\n",
      "False\n",
      "{19, 20, 22, 24, 25, 26, 27, 28}\n",
      "{19, 20, 22, 24, 25, 26, 27, 28}\n",
      "{27, 28}\n",
      "Difference between list and set is :  3\n"
     ]
    }
   ],
   "source": [
    "# Question 4\n",
    "it_companies = {'Facebook', 'Google', 'Microsoft', 'Apple', 'IBM', 'Oracle', 'Amazon'}\n",
    "A = {19, 22, 24, 20, 25, 26}\n",
    "B = {19, 22, 20, 25, 26, 24, 28, 27}\n",
    "age = [22, 19, 24, 25, 26, 24, 25, 24]\n",
    "# • Find the length of the set it_companies\n",
    "print(len(it_companies))\n",
    "# • Add 'Twitter' to it_companies\n",
    "it_companies.add(\"Twitter\")\n",
    "print(it_companies)\n",
    "# • Insert multiple IT companies at once to the set it_companies\n",
    "it_companies.update({\"Citadel\",\"Robinhood\",\"Coinbase\"})\n",
    "print(it_companies)\n",
    "# • Remove one of the companies from the set it_companies\n",
    "it_companies.remove(\"Facebook\")\n",
    "print(it_companies)\n",
    "# • What is the difference between remove and discard\n",
    "#  Discard method removes the element from the set if the element is present in the set. \n",
    "#  If the element is not present in the set, then it does nothing\n",
    "#  Remove method in Python, removes the element from the set if the element is present in the set,\n",
    "#  If the element is not present in the set, then an error or exception is raised.\n",
    "# • Join A and B\n",
    "print(A.union(B))\n",
    "# • Find A intersection B\n",
    "print(A.intersection(B))\n",
    "# • Is A subset of B\n",
    "print(A.issubset(B))\n",
    "# • Are A and B disjoint sets\n",
    "print(A.isdisjoint(B))\n",
    "# • Join A with B and B with A\n",
    "AB = A.union(B)\n",
    "print(AB)\n",
    "BA = B.union(A)\n",
    "print(BA)\n",
    "# • What is the symmetric difference between A and B\n",
    "print(A.symmetric_difference(B))\n",
    "# • Delete the sets completely\n",
    "del A\n",
    "del B\n",
    "# • Convert the ages to a set and compare the length of the list and the set.\n",
    "age_set = set(age)\n",
    "print(\"Difference between list and set is : \", len(age)-len(age_set))"
   ]
  },
  {
   "cell_type": "code",
   "execution_count": 5,
   "id": "5dbef5a1",
   "metadata": {},
   "outputs": [
    {
     "name": "stdout",
     "output_type": "stream",
     "text": [
      "Area of circle is:  2827.4333882308138\n",
      "Circumference of a circle is:  188.49555921538757\n",
      "Enter the radius: 3\n",
      "Area of circle is:  28.274333882308138\n"
     ]
    }
   ],
   "source": [
    "# Question 5\n",
    "# The radius of a circle is 30 meters.\n",
    "# • Calculate the area of a circle and assign the value to a variable name of _area_of_circle_\n",
    "import math\n",
    "_area_of_circle_ = math.pi * 30 * 30\n",
    "print(\"Area of circle is: \",_area_of_circle_)\n",
    "# • Calculate the circumference of a circle and assign the value to a variable name of _circum_of_circle_\n",
    "_circum_of_circle_ = 2 * math.pi * 30\n",
    "print(\"Circumference of a circle is: \",_circum_of_circle_)\n",
    "# • Take radius as user input and calculate the area\n",
    "radius = int(input(\"Enter the radius: \"))\n",
    "_area_of_circle_ = math.pi * radius * radius\n",
    "print(\"Area of circle is: \",_area_of_circle_)"
   ]
  },
  {
   "cell_type": "code",
   "execution_count": 6,
   "id": "4780cf69",
   "metadata": {},
   "outputs": [
    {
     "name": "stdout",
     "output_type": "stream",
     "text": [
      "No of unique words are :  10\n"
     ]
    }
   ],
   "source": [
    "# Question 6\n",
    "# “I am a teacher and I love to inspire and teach people”\n",
    "# • How many unique words have been used in the sentence? Use the split methods and set\n",
    "# to get the unique words.\n",
    "unique_words = len(set(\"I am a teacher and I love to inspire and teach people\".split()))\n",
    "print(\"No of unique words are : \", unique_words)"
   ]
  },
  {
   "cell_type": "code",
   "execution_count": 7,
   "id": "cb9f0e69",
   "metadata": {},
   "outputs": [
    {
     "name": "stdout",
     "output_type": "stream",
     "text": [
      "\tName\t\tAge\tCountry\t\tCity\n",
      "\n",
      "\tAsabeneh\t250\tFinland\t\tHelsinki\n"
     ]
    }
   ],
   "source": [
    "# Question 7\n",
    "# Use a tab escape sequence to get the following lines.\n",
    "#  Name Age Country City\n",
    "#  Asabeneh 250 Finland Helsinki\n",
    "print(\"\\tName\\t\\tAge\\tCountry\\t\\tCity\\n\")\n",
    "print(\"\\tAsabeneh\\t250\\tFinland\\t\\tHelsinki\")"
   ]
  },
  {
   "cell_type": "code",
   "execution_count": 8,
   "id": "40d112e3",
   "metadata": {},
   "outputs": [
    {
     "name": "stdout",
     "output_type": "stream",
     "text": [
      "The area of a circle with radius 10 is 314 meters square.\n"
     ]
    }
   ],
   "source": [
    "# Question 8\n",
    "# Use the string formatting method to display the following:\n",
    "radius = 10\n",
    "area = 3.14 * radius ** 2\n",
    "# “The area of a circle with radius 10 is 314 meters square.”\n",
    "print(\"The area of a circle with radius %s is %d meters square.\" %(radius,area))"
   ]
  },
  {
   "cell_type": "code",
   "execution_count": 11,
   "id": "2d960f6b",
   "metadata": {},
   "outputs": [
    {
     "name": "stdout",
     "output_type": "stream",
     "text": [
      " Enter No of students : 4\n",
      "\n",
      "\n",
      "Enter the weight of 1 student in lbs. \n",
      "150\n",
      "Enter the weight of 2 student in lbs. \n",
      "155\n",
      "Enter the weight of 3 student in lbs. \n",
      "145\n",
      "Enter the weight of 4 student in lbs. \n",
      "148\n",
      " Weight in KG for the students is  [68.04, 70.31, 65.77, 67.13]\n"
     ]
    }
   ],
   "source": [
    "# Question 9\n",
    "# Write a program, which reads weights (lbs.) of N students into a list and convert these weights to\n",
    "# kilograms in a separate list using Loop. N: No of students (Read input from user)\n",
    "# Ex: L1: [150, 155, 145, 148]\n",
    "# Output: [68.03, 70.3, 65.77, 67.13]\n",
    "\n",
    "n = int(input(\" Enter No of students : \"))\n",
    "weight_in_lb_list = []\n",
    "print(\"\\n\")\n",
    "for i in range(0, n):\n",
    "    print(\"Enter the weight of %d student in lbs. \"  % (i+1) )\n",
    "    weight = int(input())\n",
    "    weight_in_lb_list.append(weight)\n",
    "weight_in_kg_list = []\n",
    "for i in range(0, n):\n",
    "    weight_in_kg_list.append(round(weight_in_lb_list[i]*0.45359237,2))\n",
    "\n",
    "print(\" Weight in KG for the students is \", weight_in_kg_list)"
   ]
  },
  {
   "cell_type": "code",
   "execution_count": 10,
   "id": "13b0c5b3",
   "metadata": {},
   "outputs": [
    {
     "name": "stdout",
     "output_type": "stream",
     "text": [
      "[(3, 'X'), (7, 'O'), (6, 'X'), (2, 'O')] [(6, 'X'), (10, 'O'), (11, 'O'), (1, 'O')]\n",
      "[(6, 'X'), (10, 'X'), (11, 'X'), (1, 'X')]\n",
      "TP :  0\n",
      "FP :  0\n",
      "TN :  1\n",
      "FN :  3\n",
      "[[0, 3], [0, 1]]\n",
      "Accuracy :  0.25\n",
      "Sensitivity :  0.0\n",
      "Specificity :  1.0\n"
     ]
    }
   ],
   "source": [
    "# Question 10\n",
    "# The diagram below shows a dataset with 2 classes and 8 data points, each with only one feature\n",
    "# value, labeled f. Note that there are two data points with the same feature value of 6. These are\n",
    "# shown as two x’s one above the other.\n",
    "# 1. Divide this data equally into two parts. Use first part as training and second part as\n",
    "# testing. Using KNN classifier, for K=3, what would be the predicted outputs for the test\n",
    "# samples? Show how you arrived at your answer.\n",
    "# 2. Compute the confusion matrix for this and calculate accuracy, sensitivity and specificity\n",
    "# values\n",
    "import random\n",
    "class_1 = \"O\"\n",
    "class_2 = \"X\"\n",
    "feature_label = [(1,class_1),(2,class_1),(3,class_2),(6,class_2),(6,class_2),(7,class_1),(10,class_1),(11,class_1)]\n",
    "K = 3\n",
    "random.shuffle(feature_label)\n",
    "n = len(feature_label)\n",
    "\n",
    "# as asked in the question , dividing data equally\n",
    "train_data = feature_label[:n//2]\n",
    "test_data = feature_label[n//2:]\n",
    "\n",
    "print(train_data,test_data)\n",
    "\n",
    "\n",
    "# Logic for prediction===============\n",
    "output = []\n",
    "distance = []\n",
    "for _feature,_class in test_data:\n",
    "    distance = []\n",
    "    # calculating distance of all the points in the train data from the current input\n",
    "    # since the data is one dimensional ,we can use abs function , no need to use euclidean distance\n",
    "    for _f,_c in train_data:\n",
    "        distance.append((abs(_feature-_f),_c))\n",
    "    \n",
    "    # out of the all the points , select K closest points as per KNN logic\n",
    "    nearest_neighbors = sorted(distance)[:K]\n",
    "    \n",
    "    # counting the classes of the K neighbors\n",
    "    count_X = 0\n",
    "    count_O = 0\n",
    "    for _,_cls in nearest_neighbors:\n",
    "        if _cls == class_2:\n",
    "            count_X+=1\n",
    "        else:\n",
    "            count_O+=1\n",
    "            \n",
    "    # we select the class from the majority of the neighbors to determine the prediction\n",
    "    if count_X>count_O:\n",
    "        output.append((_feature, class_2))\n",
    "    else:\n",
    "        output.append((_feature,class_1))\n",
    "\n",
    "print(output)\n",
    "#     Let O be positive and X be negative\n",
    "TP = 0\n",
    "FP = 0\n",
    "TN = 0\n",
    "FN = 0\n",
    "\n",
    "for i in range(len(output)):\n",
    "    # if the predicted class is positive\n",
    "    if output[i][1]==\"O\":\n",
    "        # if the actual class is positive\n",
    "        if output[i][1]==test_data[i][1]:\n",
    "            TP+=1\n",
    "        else:\n",
    "            FP+=1\n",
    "    # if the predicted class is negative\n",
    "    elif output[i][1]==\"X\":\n",
    "        # if the actual class is also negative\n",
    "        if output[i][1]==test_data[i][1]:\n",
    "            TN+=1\n",
    "        else:\n",
    "            FN+=1\n",
    "\n",
    "print(\"TP : \" , TP)\n",
    "print(\"FP : \" , FP)\n",
    "print(\"TN : \" , TN)\n",
    "print(\"FN : \" , FN)\n",
    "\n",
    "confusion_matrix = [[TP,FN],[FP,TN]]\n",
    "print(confusion_matrix)\n",
    "\n",
    "# Accuracy is how close or far off a given set of measurements (observations or readings) are to their true value\n",
    "accuracy = ( TP + TN ) / (TP + TN + FP + FN)\n",
    "print(\"Accuracy : \" , accuracy)\n",
    "# Sensitivity (true positive rate) refers to the probability of a positive test, conditioned on truly being positive.\n",
    "sensitivity = TP / (TP + FN)\n",
    "print(\"Sensitivity : \" ,sensitivity)\n",
    "# Specificity (true negative rate) refers to the probability of a negative test, conditioned on truly being negative.\n",
    "specificity = TN / (TN+FP)\n",
    "print(\"Specificity : \" ,specificity)"
   ]
  }
 ],
 "metadata": {
  "kernelspec": {
   "display_name": "Python 3 (ipykernel)",
   "language": "python",
   "name": "python3"
  },
  "language_info": {
   "codemirror_mode": {
    "name": "ipython",
    "version": 3
   },
   "file_extension": ".py",
   "mimetype": "text/x-python",
   "name": "python",
   "nbconvert_exporter": "python",
   "pygments_lexer": "ipython3",
   "version": "3.9.12"
  }
 },
 "nbformat": 4,
 "nbformat_minor": 5
}
